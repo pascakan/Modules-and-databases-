{
 "cells": [
  {
   "cell_type": "markdown",
   "id": "a3492ae5-1604-4069-92fe-7ba792932741",
   "metadata": {},
   "source": [
    "11.1 - Create a Module and Import It"
   ]
  },
  {
   "cell_type": "code",
   "execution_count": 1,
   "id": "1241433f-e0a1-4001-af77-08d2b79c9d49",
   "metadata": {},
   "outputs": [
    {
     "name": "stdout",
     "output_type": "stream",
     "text": [
      "zoo.py file created.\n"
     ]
    }
   ],
   "source": [
    "with open(\"zoo.py\", \"w\") as f:\n",
    "    f.write(\"\"\"\n",
    "def hours():\n",
    "    print('Open 9-5 daily')\n",
    "\"\"\")\n",
    "print(\"zoo.py file created.\")"
   ]
  },
  {
   "cell_type": "code",
   "execution_count": 3,
   "id": "cc9eeba1-049a-49d3-9ea8-13c1186e14bf",
   "metadata": {},
   "outputs": [
    {
     "name": "stdout",
     "output_type": "stream",
     "text": [
      "Open 9-5 daily\n"
     ]
    }
   ],
   "source": [
    "import zoo\n",
    "\n",
    "zoo.hours()"
   ]
  },
  {
   "cell_type": "markdown",
   "id": "6bfab99b-a1b9-4522-9043-360c42d484f7",
   "metadata": {},
   "source": [
    "11.2 - Import zoo as menagerie"
   ]
  },
  {
   "cell_type": "code",
   "execution_count": 5,
   "id": "3e309943-b8c3-404a-a205-41353fd1c78b",
   "metadata": {},
   "outputs": [
    {
     "name": "stdout",
     "output_type": "stream",
     "text": [
      "Open 9-5 daily\n"
     ]
    }
   ],
   "source": [
    "import zoo as menagerie\n",
    "\n",
    "menagerie.hours()"
   ]
  },
  {
   "cell_type": "markdown",
   "id": "60a65deb-d55f-4598-9846-6f20fdf03b3f",
   "metadata": {},
   "source": [
    "16.8 - Use SQLAlchemy to Query SQLite Data"
   ]
  },
  {
   "cell_type": "code",
   "execution_count": 7,
   "id": "66b4ef82-d0b2-4e18-8f7d-76d58d3cd6fe",
   "metadata": {},
   "outputs": [
    {
     "name": "stdout",
     "output_type": "stream",
     "text": [
      "Titles in alphabetical order:\n",
      "1984\n",
      "Pride and Prejudice\n",
      "The Great Gatsby\n",
      "To Kill a Mockingbird\n"
     ]
    }
   ],
   "source": [
    "from sqlalchemy import create_engine, Table, MetaData, select\n",
    "\n",
    "# Connect to the SQLite database\n",
    "engine = create_engine('sqlite:///books.db')\n",
    "connection = engine.connect()\n",
    "metadata = MetaData()\n",
    "\n",
    "# Reflect the book table\n",
    "book = Table('book', metadata, autoload_with=engine)\n",
    "\n",
    "# Select and print the title column in alphabetical order\n",
    "query = select(book.c.title).order_by(book.c.title)\n",
    "result = connection.execute(query)\n",
    "\n",
    "# Print the titles\n",
    "print(\"Titles in alphabetical order:\")\n",
    "for row in result:\n",
    "    print(row.title)\n"
   ]
  },
  {
   "cell_type": "code",
   "execution_count": null,
   "id": "ab3376cb-9e35-4bcf-9783-7dcd2567cc7e",
   "metadata": {},
   "outputs": [],
   "source": []
  }
 ],
 "metadata": {
  "kernelspec": {
   "display_name": "Python 3 (ipykernel)",
   "language": "python",
   "name": "python3"
  },
  "language_info": {
   "codemirror_mode": {
    "name": "ipython",
    "version": 3
   },
   "file_extension": ".py",
   "mimetype": "text/x-python",
   "name": "python",
   "nbconvert_exporter": "python",
   "pygments_lexer": "ipython3",
   "version": "3.12.7"
  }
 },
 "nbformat": 4,
 "nbformat_minor": 5
}
